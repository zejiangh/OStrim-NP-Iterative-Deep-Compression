{
 "cells": [
  {
   "cell_type": "code",
   "execution_count": 11,
   "metadata": {},
   "outputs": [],
   "source": [
    "import numpy as np\n",
    "import tensorflow as tf\n",
    "from tensorflow import keras\n",
    "from sklearn.metrics import accuracy_score\n",
    "import sys\n",
    "sys.path.append('./Network_Graphs/')"
   ]
  },
  {
   "cell_type": "markdown",
   "metadata": {},
   "source": [
    "# LeNet-300-100 Model"
   ]
  },
  {
   "cell_type": "code",
   "execution_count": 19,
   "metadata": {},
   "outputs": [
    {
     "name": "stdout",
     "output_type": "stream",
     "text": [
      "(10000, 316)\n",
      "(10000, 66)\n",
      "(10000, 25)\n",
      "98.42\n"
     ]
    }
   ],
   "source": [
    "mnist = keras.datasets.mnist\n",
    "(train_images, train_labels), (test_images, test_labels) = mnist.load_data()\n",
    "\n",
    "Xtr = train_images.reshape(train_images.shape[0],-1)/255\n",
    "Xte = test_images.reshape(test_images.shape[0],-1)/255\n",
    "ytr = train_labels\n",
    "yte = test_labels\n",
    "\n",
    "[[W1,b1,W2,b2,W3,b3],inp_mask] = np.load('./Saved_Models/LeNet300_model.npy')\n",
    "Xte_masked = Xte[:,inp_mask]\n",
    "a1 = np.maximum(Xte_masked.dot(W1) + b1, 0)\n",
    "a2 = np.maximum(a1.dot(W2) + b2, 0)\n",
    "z3 = a2.dot(W3) + b3\n",
    "test_acc = accuracy_score(np.argmax(z3,axis=1),yte)\n",
    "\n",
    "print(Xte_masked.shape)\n",
    "print(a1.shape)\n",
    "print(a2.shape)\n",
    "print(round(test_acc * 100, 2))"
   ]
  },
  {
   "cell_type": "markdown",
   "metadata": {},
   "source": [
    "# LeNet5 Model"
   ]
  },
  {
   "cell_type": "code",
   "execution_count": 18,
   "metadata": {},
   "outputs": [
    {
     "name": "stderr",
     "output_type": "stream",
     "text": [
      "/u/yl16/anaconda3/lib/python3.6/site-packages/tensorflow/python/client/session.py:1714: UserWarning: An interactive session is already active. This can cause out-of-memory errors in some cases. You must explicitly call `InteractiveSession.close()` to release resources held by the other session(s).\n",
      "  warnings.warn('An interactive session is already active. This can '\n"
     ]
    },
    {
     "name": "stdout",
     "output_type": "stream",
     "text": [
      "(5, 5, 1, 4)\n",
      "(5, 5, 4, 11)\n",
      "(144, 24)\n",
      "(24, 10)\n",
      "99.33\n"
     ]
    }
   ],
   "source": [
    "# Load Dataset\n",
    "mnist = keras.datasets.mnist\n",
    "(train_images, train_labels), (test_images, test_labels) = mnist.load_data()\n",
    "\n",
    "Xtr = train_images.reshape(train_images.shape[0],-1)/255\n",
    "Xte = test_images.reshape(test_images.shape[0],-1)/255\n",
    "ytr = train_labels\n",
    "yte = test_labels\n",
    "\n",
    "# Load Model\n",
    "from LeNet5_MNIST import LeNet_5\n",
    "network,fla_sel = np.load('./Saved_Models/LeNet5_model.npy')\n",
    "mLeNet5 = LeNet_5(network,fla_sel)\n",
    "test_layer,test_logits = mLeNet5.inference(Xte.astype(np.float32))\n",
    "\n",
    "# Accuracy Test\n",
    "sess = tf.InteractiveSession()\n",
    "tf.global_variables_initializer().run()\n",
    "m_result = sess.run(test_logits)\n",
    "test_acc = accuracy_score(np.argmax(m_result,axis=1),yte)\n",
    "\n",
    "print(mLeNet5.W_conv1.shape)\n",
    "print(mLeNet5.W_conv2.shape)\n",
    "print(mLeNet5.W_fc1.shape)\n",
    "print(mLeNet5.W_fc2.shape)\n",
    "print(round(test_acc * 100,2))"
   ]
  },
  {
   "cell_type": "markdown",
   "metadata": {},
   "source": [
    "# VGG16 Model"
   ]
  },
  {
   "cell_type": "code",
   "execution_count": 24,
   "metadata": {},
   "outputs": [
    {
     "name": "stdout",
     "output_type": "stream",
     "text": [
      "(Input)3 - [44, 52, 70, 86, 157, 95, 59, 118, 58, 58, 58, 81, 81, 81] - 10(Output)\n",
      "93.61\n"
     ]
    }
   ],
   "source": [
    "# CIFAR-10 Data\n",
    "CIFAR10 = keras.datasets.cifar10\n",
    "(train_images, train_labels), (test_images, test_labels) = CIFAR10.load_data()\n",
    "mean = 120.707\n",
    "std = 64.15\n",
    "Xtr = (train_images - mean)/(std + 1e-7)\n",
    "Xte = (test_images - mean)/(std + 1e-7) # The way for data standardization a bit different from MNIST\n",
    "ytr = train_labels\n",
    "yte = test_labels\n",
    "\n",
    "import VGG16_CIFAR10\n",
    "tf.reset_default_graph()\n",
    "m_param = np.load('./Saved_Models/VGG16_model.npy')\n",
    "mVGG16 = VGG16_CIFAR10.VGG16(m_param)\n",
    "mVGG16.print_shape()\n",
    "\n",
    "dummy, test_logits = mVGG16.inference(Xte.astype(np.float32),False,1)\n",
    "correct_prediction = tf.equal(tf.argmax(test_logits, 1), yte.reshape(-1))\n",
    "acc_score = tf.reduce_mean(tf.cast(correct_prediction, tf.float32), name = 'accuracy')\n",
    "\n",
    "# Add the variable initializer Op.\n",
    "init = tf.global_variables_initializer()\n",
    "sess = tf.Session()\n",
    "sess.run(init)\n",
    "\n",
    "test_acc = sess.run(acc_score)\n",
    "print(round(test_acc*100,2))"
   ]
  },
  {
   "cell_type": "code",
   "execution_count": null,
   "metadata": {
    "collapsed": true
   },
   "outputs": [],
   "source": []
  }
 ],
 "metadata": {
  "kernelspec": {
   "display_name": "Python 3",
   "language": "python",
   "name": "python3"
  },
  "language_info": {
   "codemirror_mode": {
    "name": "ipython",
    "version": 3
   },
   "file_extension": ".py",
   "mimetype": "text/x-python",
   "name": "python",
   "nbconvert_exporter": "python",
   "pygments_lexer": "ipython3",
   "version": "3.6.3"
  }
 },
 "nbformat": 4,
 "nbformat_minor": 2
}
